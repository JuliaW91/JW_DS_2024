{
 "cells": [
  {
   "cell_type": "markdown",
   "id": "da9cd324-c990-4bc1-9649-cbc193e1bd2f",
   "metadata": {},
   "source": [
    "# Data Science Tools and Ecosystem"
   ]
  },
  {
   "cell_type": "markdown",
   "id": "0aa72b0d-0ed7-45ee-a4b6-4997ee6d71f5",
   "metadata": {},
   "source": [
    "In this notebook, Data Science Tools and Ecosystem are summarized."
   ]
  },
  {
   "cell_type": "markdown",
   "id": "913c0b8f-ffaa-467f-b8eb-748ca0c0d5b6",
   "metadata": {},
   "source": [
    "**Objectives:**\n",
    "- languages\n",
    "- libraries\n",
    "- Tools\n",
    "- arithmetic expressions"
   ]
  },
  {
   "cell_type": "markdown",
   "id": "59b73e2d-5422-4451-b56e-31eb0ad2e6f2",
   "metadata": {},
   "source": [
    "Some of the populat languages that Data Scientists use are:\n",
    "1. Python\n",
    "2. R\n",
    "3. SQL\n",
    "4. Scala\n",
    "5. Java\n",
    "6. C++\n",
    "7. julia"
   ]
  },
  {
   "cell_type": "markdown",
   "id": "99af1926-9931-4b1c-8fa0-7634ab786720",
   "metadata": {},
   "source": [
    "Some of the commonly used libraries used by Data Scientists include:\n",
    "1. Pandas\n",
    "2. NumPy\n",
    "3. Matplotlib\n",
    "4. Seaborn\n",
    "5. TensorFlow"
   ]
  },
  {
   "cell_type": "markdown",
   "id": "6464c729-e901-4a76-b4ba-1da44d2fc609",
   "metadata": {},
   "source": [
    "|Data Science Tools |\n",
    "| -------------| \n",
    "| Git | \n",
    "| VS Code | \n",
    "| GitLab | "
   ]
  },
  {
   "cell_type": "markdown",
   "id": "9135c0e6-6bcf-4d06-9533-9a98b419779a",
   "metadata": {},
   "source": [
    "### Below are a few examples of evaluating arithmetic expressions in Python"
   ]
  },
  {
   "cell_type": "code",
   "execution_count": 2,
   "id": "cd6c9c25-c544-4388-9459-d7deec37b245",
   "metadata": {},
   "outputs": [
    {
     "data": {
      "text/plain": [
       "17"
      ]
     },
     "execution_count": 2,
     "metadata": {},
     "output_type": "execute_result"
    }
   ],
   "source": [
    "#This is a simple arithmetic expression to multiply then add integers\n",
    "(3*4)+5"
   ]
  },
  {
   "cell_type": "code",
   "execution_count": 3,
   "id": "12d2f687-e000-4126-8c35-191aaad09a69",
   "metadata": {},
   "outputs": [
    {
     "data": {
      "text/plain": [
       "3.3333333333333335"
      ]
     },
     "execution_count": 3,
     "metadata": {},
     "output_type": "execute_result"
    }
   ],
   "source": [
    "#This will convert 200 minutes to hours by diving by 60\n",
    "200/60"
   ]
  },
  {
   "cell_type": "markdown",
   "id": "b5c47478-7256-473b-8e64-13dddb5d2a5e",
   "metadata": {},
   "source": [
    "## Author: \n",
    "Juliane Wandt"
   ]
  },
  {
   "cell_type": "code",
   "execution_count": null,
   "id": "bb58634a-aca7-4859-9576-9b6378cff985",
   "metadata": {},
   "outputs": [],
   "source": []
  },
  {
   "cell_type": "code",
   "execution_count": null,
   "id": "67956880-e26d-4419-87b9-13c9fa673571",
   "metadata": {},
   "outputs": [],
   "source": []
  },
  {
   "cell_type": "code",
   "execution_count": null,
   "id": "9d8f665a-bd00-4299-9bda-d22fff9cda22",
   "metadata": {},
   "outputs": [],
   "source": []
  }
 ],
 "metadata": {
  "kernelspec": {
   "display_name": "Python 3 (ipykernel)",
   "language": "python",
   "name": "python3"
  },
  "language_info": {
   "codemirror_mode": {
    "name": "ipython",
    "version": 3
   },
   "file_extension": ".py",
   "mimetype": "text/x-python",
   "name": "python",
   "nbconvert_exporter": "python",
   "pygments_lexer": "ipython3",
   "version": "3.11.9"
  }
 },
 "nbformat": 4,
 "nbformat_minor": 5
}
